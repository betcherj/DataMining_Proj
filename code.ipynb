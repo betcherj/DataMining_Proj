{
 "cells": [
  {
   "cell_type": "code",
   "execution_count": 1,
   "metadata": {},
   "outputs": [],
   "source": [
    "import pandas as pd\n",
    "import numpy as np\n",
    "from sklearn.preprocessing import LabelEncoder, StandardScaler\n",
    "from sklearn.neural_network import MLPClassifier\n",
    "from sklearn.neighbors import KNeighborsClassifier\n",
    "from sklearn.svm import SVC\n",
    "from sklearn.gaussian_process import GaussianProcessClassifier\n",
    "from sklearn.gaussian_process.kernels import RBF\n",
    "from sklearn.tree import DecisionTreeClassifier\n",
    "from sklearn.ensemble import RandomForestClassifier, AdaBoostClassifier\n",
    "from sklearn.naive_bayes import GaussianNB\n",
    "from sklearn.discriminant_analysis import QuadraticDiscriminantAnalysis\n",
    "from sklearn.model_selection import KFold \n",
    "from sklearn.decomposition import PCA\n",
    "from sklearn.manifold import TSNE\n",
    "from sklearn.metrics import accuracy_score\n",
    "from sklearn.linear_model import LogisticRegression\n",
    "from sklearn.model_selection import train_test_split\n",
    "from sklearn.preprocessing import LabelEncoder, OneHotEncoder, StandardScaler\n",
    "from sklearn.decomposition import PCA\n",
    "from sklearn.manifold import TSNE\n",
    "from sklearn.ensemble import RandomForestClassifier, AdaBoostClassifier\n",
    "from sklearn.naive_bayes import BernoulliNB, GaussianNB, MultinomialNB\n",
    "from sklearn.neighbors import KNeighborsClassifier\n",
    "from sklearn.neural_network import MLPClassifier\n",
    "from sklearn.linear_model import RidgeClassifier\n",
    "from sklearn.utils.class_weight import compute_class_weight, compute_sample_weight\n",
    "from catboost import CatBoostClassifier\n",
    "from sklearn.calibration import CalibratedClassifierCV\n",
    "from sklearn import preprocessing\n",
    "from tqdm import tqdm\n",
    "import weka.core.jvm as jvm\n",
    "from weka.core.converters import Loader\n",
    "from weka.classifiers import Classifier\n",
    "from weka.classifiers import Evaluation\n",
    "from weka.core.classes import Random\n",
    "from sklearn.model_selection import RandomizedSearchCV\n",
    "from sklearn.model_selection import GridSearchCV\n",
    "from collections import defaultdict\n",
    "from sklearn import datasets\n",
    "from matplotlib import pyplot as plt\n",
    "from scipy import stats\n",
    "from sklearn.ensemble import BaggingClassifier\n",
    "import warnings"
   ]
  },
  {
   "cell_type": "code",
   "execution_count": 11,
   "metadata": {},
   "outputs": [],
   "source": [
    "warnings.filterwarnings('ignore')"
   ]
  },
  {
   "cell_type": "code",
   "execution_count": 4,
   "metadata": {
    "scrolled": true
   },
   "outputs": [
    {
     "name": "stdout",
     "output_type": "stream",
     "text": [
      "98.50470919506748\n",
      "\n",
      "Correctly Classified Instances       10145               98.5047 %\n",
      "Incorrectly Classified Instances       154                1.4953 %\n",
      "Kappa statistic                          0.982 \n",
      "Mean absolute error                      0.2226\n",
      "Root mean squared error                  0.3107\n",
      "Relative absolute error                 80.3187 %\n",
      "Root relative squared error             83.4718 %\n",
      "Total Number of Instances            10299     \n",
      "\n",
      "=== Detailed Accuracy By Class ===\n",
      "\n",
      "                 TP Rate  FP Rate  Precision  Recall   F-Measure  MCC      ROC Area  PRC Area  Class\n",
      "                 0.960    0.009    0.961      0.960    0.960      0.951    0.991     0.944     STANDING\n",
      "                 0.958    0.009    0.957      0.958    0.957      0.948    0.986     0.930     SITTING\n",
      "                 1.000    0.000    1.000      1.000    1.000      1.000    1.000     1.000     LAYING\n",
      "                 1.000    0.000    0.999      1.000    0.999      0.999    1.000     0.999     WALKING\n",
      "                 0.999    0.000    1.000      0.999    1.000      1.000    1.000     1.000     WALKING_DOWNSTAIRS\n",
      "                 0.999    0.000    0.999      0.999    0.999      0.999    1.000     0.999     WALKING_UPSTAIRS\n",
      "Weighted Avg.    0.985    0.003    0.985      0.985    0.985      0.982    0.996     0.977     \n",
      "\n"
     ]
    }
   ],
   "source": [
    "jvm.start()\n",
    "loader = Loader(classname=\"weka.core.converters.ArffLoader\")\n",
    "data = loader.load_file(\"human_activity.arff\")\n",
    "data.class_is_last()\n",
    "cls = Classifier(classname=\"weka.classifiers.functions.SMO\")\n",
    "evl = Evaluation(data)\n",
    "evl.crossvalidate_model(cls, data, 10, Random(1))\n",
    "\n",
    "print(evl.percent_correct)\n",
    "print(evl.summary())\n",
    "print(evl.class_details())"
   ]
  },
  {
   "cell_type": "code",
   "execution_count": 2,
   "metadata": {},
   "outputs": [],
   "source": [
    "df = pd.read_csv(\"human_activity.csv\").drop('Unnamed: 0',1)"
   ]
  },
  {
   "cell_type": "code",
   "execution_count": 3,
   "metadata": {},
   "outputs": [],
   "source": [
    "x = df.drop(\"label\", 1).values\n",
    "encoder = LabelEncoder()\n",
    "y = encoder.fit_transform(df[\"label\"])"
   ]
  },
  {
   "cell_type": "markdown",
   "metadata": {},
   "source": [
    "The bellow cells are commented out as they should not be run again"
   ]
  },
  {
   "cell_type": "code",
   "execution_count": 45,
   "metadata": {},
   "outputs": [],
   "source": [
    "# X_train, X_final_test, y_train, y_final_test = train_test_split(x, y, test_size=0.1)"
   ]
  },
  {
   "cell_type": "code",
   "execution_count": null,
   "metadata": {},
   "outputs": [],
   "source": [
    "# xtrain_df,ytrain_df = pd.DataFrame(X_train),pd.DataFrame(y_train,columns=[\"label\"])\n",
    "# train = pd.concat([xtrain_df,ytrain_df],axis=1)\n",
    "# train.to_csv(\"Final_training.csv\")"
   ]
  },
  {
   "cell_type": "code",
   "execution_count": 84,
   "metadata": {},
   "outputs": [],
   "source": [
    "# x_test_df,y_test_df = pd.DataFrame(X_final_test),pd.DataFrame(y_final_test,columns=[\"label\"])\n",
    "# test = pd.concat([x_test_df,y_test_df],axis=1)\n",
    "# test.to_csv(\"Final_test.csv\")"
   ]
  },
  {
   "cell_type": "code",
   "execution_count": 63,
   "metadata": {},
   "outputs": [],
   "source": [
    "train_df = pd.read_csv(\"Final_training.csv\").drop('Unnamed: 0',1)"
   ]
  },
  {
   "cell_type": "code",
   "execution_count": 64,
   "metadata": {},
   "outputs": [],
   "source": [
    "X_train = train_df.drop(\"label\", 1).values\n",
    "y_train = train_df[\"label\"].values\n"
   ]
  },
  {
   "cell_type": "code",
   "execution_count": 9,
   "metadata": {},
   "outputs": [],
   "source": [
    "def k_fold_test(x,y,classifier,n_splits=10):\n",
    "    kf = KFold(n_splits=n_splits)\n",
    "    total_accuracy = 0\n",
    "    for train_index, test_index in kf.split(x):\n",
    "        y_train, y_test = y[train_index], y[test_index]\n",
    "        x_train, x_test = x[train_index], x[test_index]\n",
    "        classifier.fit(x_train, y_train)\n",
    "        y_pred = classifier.predict(x_test)\n",
    "        accuracy = accuracy_score(y_pred, y_test)\n",
    "        total_accuracy += accuracy\n",
    "    return total_accuracy/n_splits"
   ]
  },
  {
   "cell_type": "code",
   "execution_count": 51,
   "metadata": {
    "scrolled": true
   },
   "outputs": [
    {
     "name": "stdout",
     "output_type": "stream",
     "text": [
      "MLP :\n",
      "0.972812320906769\n",
      "logistic regression :\n",
      "0.9824145109691171\n",
      "KNN :\n",
      "0.9658001052356016\n",
      "SVC :\n",
      "0.9747546271453484\n",
      "AdaBoostClassifier :\n",
      "0.5420203690097911\n",
      "GaussianNB :\n",
      "0.7630759237998914\n",
      "CatBoostClassifier :\n",
      "0.9903979495814967\n",
      "RandomForestClassifier :\n",
      "0.9205955307266731\n",
      "BernoulliNB :\n",
      "0.8473395333959186\n"
     ]
    }
   ],
   "source": [
    "classifiers = [\n",
    "        MLPClassifier(alpha=1),\n",
    "        LogisticRegression(),\n",
    "        KNeighborsClassifier(3),\n",
    "        SVC(kernel=\"linear\", C=0.025),\n",
    "        AdaBoostClassifier(),\n",
    "        GaussianNB(),\n",
    "        CatBoostClassifier(iterations=500, learning_rate=0.3, depth=5, loss_function='MultiClass', classes_count=6, logging_level='Silent', l2_leaf_reg=2, thread_count=4),\n",
    "        RandomForestClassifier(n_estimators=70, max_depth=5, max_features=0.8, n_jobs=4, class_weight='balanced'),\n",
    "        BernoulliNB(),\n",
    "    ]\n",
    "names = [\n",
    "    \"MLP\",\n",
    "    \"logistic regression\",\n",
    "    \"KNN\",\n",
    "    \"SVC\",\n",
    "    \"AdaBoostClassifier\",\n",
    "    \"GaussianNB\",\n",
    "    \"CatBoostClassifier\",\n",
    "    \"RandomForestClassifier\",\n",
    "    \"BernoulliNB\"\n",
    "]\n",
    "for name,classifier in zip(names,classifiers):\n",
    "    accuracy = k_fold_test(X_train,y_train,classifier,n_splits=4) \n",
    "    print(name+ \" :\")\n",
    "    print(accuracy)\n",
    "    \n",
    "    "
   ]
  },
  {
   "cell_type": "code",
   "execution_count": 10,
   "metadata": {},
   "outputs": [],
   "source": [
    "def svc_param_selection(X, y,kernel, nfolds):\n",
    "    Cs = [0.001, 0.01, 0.1, 1, 10]\n",
    "    gammas = [0.001, 0.01, 0.1, 1]\n",
    "    param_grid = {'C': Cs, 'gamma' : gammas}\n",
    "    grid_search = GridSearchCV(SVC(kernel=kernel), param_grid, cv=nfolds)\n",
    "    grid_search.fit(X, y)\n",
    "    return grid_search.best_params_"
   ]
  },
  {
   "cell_type": "markdown",
   "metadata": {},
   "source": [
    "Paremeter optimizing svc among different kernels"
   ]
  },
  {
   "cell_type": "code",
   "execution_count": null,
   "metadata": {},
   "outputs": [],
   "source": [
    "best_params = svc_param_selection(X_train,y_train,'poly',10)"
   ]
  },
  {
   "cell_type": "code",
   "execution_count": 102,
   "metadata": {
    "scrolled": true
   },
   "outputs": [
    {
     "data": {
      "text/plain": [
       "{'C': 0.001, 'gamma': 1}"
      ]
     },
     "execution_count": 102,
     "metadata": {},
     "output_type": "execute_result"
    }
   ],
   "source": [
    "best_params"
   ]
  },
  {
   "cell_type": "code",
   "execution_count": 103,
   "metadata": {},
   "outputs": [
    {
     "data": {
      "text/plain": [
       "0.9911535620839654"
      ]
     },
     "execution_count": 103,
     "metadata": {},
     "output_type": "execute_result"
    }
   ],
   "source": [
    "poly_accuracy = k_fold_test(X_train,y_train,SVC(kernel=\"poly\",C=.001,gamma=1))\n",
    "poly_accuracy"
   ]
  },
  {
   "cell_type": "code",
   "execution_count": null,
   "metadata": {},
   "outputs": [],
   "source": [
    "linear_best_params = svc_param_selection(X_train,y_train,'linear',10)"
   ]
  },
  {
   "cell_type": "code",
   "execution_count": 105,
   "metadata": {},
   "outputs": [
    {
     "data": {
      "text/plain": [
       "{'C': 10, 'gamma': 0.001}"
      ]
     },
     "execution_count": 105,
     "metadata": {},
     "output_type": "execute_result"
    }
   ],
   "source": [
    "linear_best_params"
   ]
  },
  {
   "cell_type": "code",
   "execution_count": 10,
   "metadata": {
    "scrolled": true
   },
   "outputs": [
    {
     "data": {
      "text/plain": [
       "0.9873777088124213"
      ]
     },
     "execution_count": 10,
     "metadata": {},
     "output_type": "execute_result"
    }
   ],
   "source": [
    "linear_accuracy = k_fold_test(X_train,y_train,SVC(kernel=\"linear\",C=10,gamma=.001))\n",
    "linear_accuracy"
   ]
  },
  {
   "cell_type": "markdown",
   "metadata": {},
   "source": [
    "Paremeter optimizing neural network"
   ]
  },
  {
   "cell_type": "code",
   "execution_count": 13,
   "metadata": {},
   "outputs": [],
   "source": [
    "parameter_space_neural_net = {\n",
    "    'hidden_layer_sizes': [(50,50,50), (50,100,50), (100,)],\n",
    "    'activation': ['tanh', 'relu'],\n",
    "    'solver': ['sgd', 'adam'],\n",
    "    'alpha': [0.0001, 0.1,1],\n",
    "    'learning_rate': ['constant','adaptive'],\n",
    "}"
   ]
  },
  {
   "cell_type": "code",
   "execution_count": 14,
   "metadata": {},
   "outputs": [
    {
     "name": "stdout",
     "output_type": "stream",
     "text": [
      "Fitting 10 folds for each of 10 candidates, totalling 100 fits\n"
     ]
    },
    {
     "name": "stderr",
     "output_type": "stream",
     "text": [
      "[Parallel(n_jobs=-1)]: Using backend LokyBackend with 8 concurrent workers.\n",
      "[Parallel(n_jobs=-1)]: Done  25 tasks      | elapsed: 10.2min\n",
      "[Parallel(n_jobs=-1)]: Done 100 out of 100 | elapsed: 31.7min finished\n"
     ]
    },
    {
     "data": {
      "text/plain": [
       "RandomizedSearchCV(cv=10, error_score='raise-deprecating',\n",
       "          estimator=MLPClassifier(activation='relu', alpha=0.0001, batch_size='auto', beta_1=0.9,\n",
       "       beta_2=0.999, early_stopping=False, epsilon=1e-08,\n",
       "       hidden_layer_sizes=(100,), learning_rate='constant',\n",
       "       learning_rate_init=0.001, max_iter=100, momentum=0.9,\n",
       "       n_iter_no_change=10, nesterovs_momentum=True, power_t=0.5,\n",
       "       random_state=None, shuffle=True, solver='adam', tol=0.0001,\n",
       "       validation_fraction=0.1, verbose=False, warm_start=False),\n",
       "          fit_params=None, iid='warn', n_iter=10, n_jobs=-1,\n",
       "          param_distributions={'solver': ['sgd', 'adam'], 'hidden_layer_sizes': [(50, 50, 50), (50, 100, 50), (100,)], 'learning_rate': ['constant', 'adaptive'], 'activation': ['tanh', 'relu'], 'alpha': [0.0001, 0.1, 1]},\n",
       "          pre_dispatch='2*n_jobs', random_state=42, refit=True,\n",
       "          return_train_score='warn', scoring=None, verbose=2)"
      ]
     },
     "execution_count": 14,
     "metadata": {},
     "output_type": "execute_result"
    }
   ],
   "source": [
    "mlp = MLPClassifier(max_iter=100)\n",
    "mlp_random = RandomizedSearchCV(estimator = mlp, param_distributions = parameter_space_neural_net, n_iter = 10, cv = 10, verbose=2, random_state=42, n_jobs = -1)\n",
    "mlp_random.fit(X_train, y_train)"
   ]
  },
  {
   "cell_type": "code",
   "execution_count": 15,
   "metadata": {
    "scrolled": true
   },
   "outputs": [
    {
     "data": {
      "text/plain": [
       "{'activation': 'tanh',\n",
       " 'alpha': 0.0001,\n",
       " 'hidden_layer_sizes': (50, 50, 50),\n",
       " 'learning_rate': 'constant',\n",
       " 'solver': 'sgd'}"
      ]
     },
     "execution_count": 15,
     "metadata": {},
     "output_type": "execute_result"
    }
   ],
   "source": [
    "mlp_random.best_params_"
   ]
  },
  {
   "cell_type": "code",
   "execution_count": 22,
   "metadata": {},
   "outputs": [
    {
     "data": {
      "text/plain": [
       "0.9818759741939092"
      ]
     },
     "execution_count": 22,
     "metadata": {},
     "output_type": "execute_result"
    }
   ],
   "source": [
    "mlp_accuracy = k_fold_test(X_train,y_train,MLPClassifier(activation='tanh',alpha=.0001,hidden_layer_sizes=(50, 50, 50),learning_rate='constant',solver='sgd'))\n",
    "mlp_accuracy"
   ]
  },
  {
   "cell_type": "markdown",
   "metadata": {},
   "source": [
    "Paremeter optimizing random forest"
   ]
  },
  {
   "cell_type": "code",
   "execution_count": 16,
   "metadata": {},
   "outputs": [],
   "source": [
    "n_estimators = [int(x) for x in np.linspace(start = 200, stop = 2000, num = 10)]\n",
    "max_features = ['auto', 'sqrt']\n",
    "max_depth = [int(x) for x in np.linspace(10, 110, num = 11)]\n",
    "max_depth.append(None)\n",
    "min_samples_split = [2, 5, 10]\n",
    "min_samples_leaf = [1, 2, 4]\n",
    "bootstrap = [True, False]\n",
    "random_grid_rf = {'n_estimators': n_estimators,\n",
    "               'max_features': max_features,\n",
    "               'max_depth': max_depth,\n",
    "               'min_samples_split': min_samples_split,\n",
    "               'min_samples_leaf': min_samples_leaf,\n",
    "               'bootstrap': bootstrap}"
   ]
  },
  {
   "cell_type": "code",
   "execution_count": 17,
   "metadata": {},
   "outputs": [
    {
     "name": "stdout",
     "output_type": "stream",
     "text": [
      "Fitting 3 folds for each of 100 candidates, totalling 300 fits\n"
     ]
    },
    {
     "name": "stderr",
     "output_type": "stream",
     "text": [
      "[Parallel(n_jobs=-1)]: Using backend LokyBackend with 8 concurrent workers.\n",
      "[Parallel(n_jobs=-1)]: Done  25 tasks      | elapsed: 10.7min\n",
      "[Parallel(n_jobs=-1)]: Done 146 tasks      | elapsed: 55.5min\n",
      "[Parallel(n_jobs=-1)]: Done 300 out of 300 | elapsed: 110.2min finished\n"
     ]
    },
    {
     "data": {
      "text/plain": [
       "RandomizedSearchCV(cv=3, error_score='raise-deprecating',\n",
       "          estimator=RandomForestClassifier(bootstrap=True, class_weight=None, criterion='gini',\n",
       "            max_depth=None, max_features='auto', max_leaf_nodes=None,\n",
       "            min_impurity_decrease=0.0, min_impurity_split=None,\n",
       "            min_samples_leaf=1, min_samples_split=2,\n",
       "            min_weight_fraction_leaf=0.0, n_estimators='warn', n_jobs=None,\n",
       "            oob_score=False, random_state=None, verbose=0,\n",
       "            warm_start=False),\n",
       "          fit_params=None, iid='warn', n_iter=100, n_jobs=-1,\n",
       "          param_distributions={'min_samples_split': [2, 5, 10], 'n_estimators': [200, 400, 600, 800, 1000, 1200, 1400, 1600, 1800, 2000], 'max_depth': [10, 20, 30, 40, 50, 60, 70, 80, 90, 100, 110, None], 'bootstrap': [True, False], 'min_samples_leaf': [1, 2, 4], 'max_features': ['auto', 'sqrt']},\n",
       "          pre_dispatch='2*n_jobs', random_state=42, refit=True,\n",
       "          return_train_score='warn', scoring=None, verbose=2)"
      ]
     },
     "execution_count": 17,
     "metadata": {},
     "output_type": "execute_result"
    }
   ],
   "source": [
    "rf = RandomForestClassifier()\n",
    "rf_random = RandomizedSearchCV(estimator = rf, param_distributions = random_grid_rf, n_iter = 100, cv = 3, verbose=2, random_state=42, n_jobs = -1)\n",
    "rf_random.fit(X_train, y_train)"
   ]
  },
  {
   "cell_type": "code",
   "execution_count": 33,
   "metadata": {},
   "outputs": [
    {
     "data": {
      "text/plain": [
       "{'bootstrap': False,\n",
       " 'max_depth': 40,\n",
       " 'max_features': 'auto',\n",
       " 'min_samples_leaf': 1,\n",
       " 'min_samples_split': 2,\n",
       " 'n_estimators': 1400}"
      ]
     },
     "execution_count": 33,
     "metadata": {},
     "output_type": "execute_result"
    }
   ],
   "source": [
    "rf_random.best_params_"
   ]
  },
  {
   "cell_type": "code",
   "execution_count": 28,
   "metadata": {
    "scrolled": true
   },
   "outputs": [
    {
     "name": "stdout",
     "output_type": "stream",
     "text": [
      "0.9395106003566476\n"
     ]
    }
   ],
   "source": [
    "random_forest = RandomForestClassifier(bootstrap=False,max_depth=40,max_features='auto',min_samples_leaf=1,min_samples_split=2,n_estimators=1400)\n",
    "random_forest_accuracy = k_fold_test(random_forest)"
   ]
  },
  {
   "cell_type": "markdown",
   "metadata": {},
   "source": [
    "Paremeter optimizing catboost"
   ]
  },
  {
   "cell_type": "code",
   "execution_count": null,
   "metadata": {},
   "outputs": [],
   "source": [
    "cb_random.best_params_"
   ]
  },
  {
   "cell_type": "code",
   "execution_count": 31,
   "metadata": {},
   "outputs": [],
   "source": [
    "# cat_boost_params = {'depth':[3,1,2,6,4,5,7,8,9,10],\n",
    "#           'iterations':[500],\n",
    "#           'learning_rate':[0.03,0.001,0.01,0.1,0.2,0.3], \n",
    "#           'l2_leaf_reg':[3,1,5,10,100],\n",
    "#           'border_count':[32,5,10,20,50,100,200],\n",
    "#           'thread_count':[6]}"
   ]
  },
  {
   "cell_type": "code",
   "execution_count": 51,
   "metadata": {},
   "outputs": [],
   "source": [
    "# final_classifiers = [\n",
    "# MLPClassifier(activation='tanh',alpha=.0001,hidden_layer_sizes=(50, 50, 50),learning_rate='constant',solver='sgd'),\n",
    "# SVC(kernel=\"poly\",C=.001,gamma=1,probability=True),\n",
    "# RandomForestClassifier(bootstrap=False,max_depth=40,max_features='auto',min_samples_leaf=1,min_samples_split=2,n_estimators=1400),\n",
    "# LogisticRegression(),\n",
    "# KNeighborsClassifier(3),\n",
    "# CatBoostClassifier(iterations=500,learning_rate=.03,depth=5, loss_function='MultiClass', logging_level='Silent', l2_leaf_reg=2, thread_count=8)\n",
    "# ]\n",
    "# final_names = [\"mlp\",\"svc\",\"random forest\",\"logistic regression\", \"KNN\", \"Catboost\"]"
   ]
  },
  {
   "cell_type": "code",
   "execution_count": null,
   "metadata": {},
   "outputs": [],
   "source": [
    "# cb = CatBoostClassifier()\n",
    "# cb_random = RandomizedSearchCV(estimator = cb, param_distributions = cat_boost_params, n_iter = 10, cv = 10, verbose=2, random_state=42, n_jobs = -1)\n",
    "# cb_random.fit(X_train, y_train)"
   ]
  },
  {
   "cell_type": "code",
   "execution_count": 40,
   "metadata": {},
   "outputs": [],
   "source": [
    "def get_level_data(X,y,classifiers):\n",
    "    print(\"Starting meta learning\")\n",
    "    num_labels = len(set(y))\n",
    "    kf = KFold(n_splits=10)\n",
    "    level1 = np.zeros((X.shape[0], len(classifiers)*num_labels))\n",
    "    split_index = 0\n",
    "    for tr_idx, te_idx in kf.split(X):\n",
    "        split_index+=1\n",
    "        print(\"Split index {}\".format(split_index))\n",
    "        X_tr, y_tr = X[tr_idx], y[tr_idx]\n",
    "        X_te, y_te = X[te_idx], y[te_idx]\n",
    "        for clf_index,clf in enumerate(classifiers):\n",
    "#             print(\"Clf index {}\".format(clf_index))\n",
    "            clf.fit(X_tr,y_tr)\n",
    "            predictions = clf.predict_proba(X_te)\n",
    "            for label_index in range(num_labels):\n",
    "                current = clf_index*num_labels+label_index\n",
    "                level1[te_idx,current] = predictions[:,label_index]\n",
    "    return level1"
   ]
  },
  {
   "cell_type": "code",
   "execution_count": 41,
   "metadata": {
    "scrolled": false
   },
   "outputs": [
    {
     "name": "stdout",
     "output_type": "stream",
     "text": [
      "Starting meta learning\n",
      "Split index 1\n",
      "Split index 2\n",
      "Split index 3\n",
      "Split index 4\n",
      "Split index 5\n",
      "Split index 6\n",
      "Split index 7\n",
      "Split index 8\n",
      "Split index 9\n",
      "Split index 10\n"
     ]
    }
   ],
   "source": [
    "level1_train = get_level_data(X_train,y_train,final_classifiers)"
   ]
  },
  {
   "cell_type": "code",
   "execution_count": 53,
   "metadata": {},
   "outputs": [],
   "source": [
    "def get_level1_test(X_train,y_train,X_test,classifiers,names):\n",
    "    name_to_clf = {}\n",
    "    num_labels = len(set(y_train))\n",
    "    kf = KFold(n_splits=10)\n",
    "    level1 = np.zeros((X_test.shape[0], len(classifiers)*num_labels))\n",
    "    split_index = 0\n",
    "    for clf_index,clf in enumerate(classifiers):\n",
    "        clf.fit(X_train,y_train)\n",
    "        name = names[clf_index]\n",
    "        name_to_clf[name] = clf\n",
    "        predictions_proba = clf.predict_proba(X_test)\n",
    "        for label_index in range(num_labels):\n",
    "            current = clf_index*num_labels+label_index\n",
    "            level1[:,current] = predictions_proba[:,label_index]\n",
    "    return level1, name_to_clf"
   ]
  },
  {
   "cell_type": "code",
   "execution_count": 59,
   "metadata": {},
   "outputs": [],
   "source": [
    "test_df = pd.read_csv(\"Final_test.csv\").drop('Unnamed: 0',1)\n",
    "X_test = test_df.drop(\"label\", 1).values\n",
    "y_test = test_df[\"label\"].values"
   ]
  },
  {
   "cell_type": "code",
   "execution_count": 107,
   "metadata": {},
   "outputs": [],
   "source": [
    "level1_test,names_to_clf = get_level1_test(X_train,y_train,X_test,final_classifiers,final_names)"
   ]
  },
  {
   "cell_type": "code",
   "execution_count": 60,
   "metadata": {},
   "outputs": [],
   "source": [
    "def test_meta_classifier(level1_train,y_train,level1_test,y_test):\n",
    "    meta_clf = RidgeClassifier(normalize=True, class_weight='balanced')\n",
    "    meta_clf.fit(level1_train, y_train)\n",
    "    meta_preds = meta_clf.predict(level1_test)\n",
    "    accuracy = accuracy_score(meta_preds, y_test)\n",
    "    return accuracy"
   ]
  },
  {
   "cell_type": "code",
   "execution_count": 108,
   "metadata": {
    "scrolled": true
   },
   "outputs": [
    {
     "data": {
      "text/plain": [
       "0.9912621359223301"
      ]
     },
     "execution_count": 108,
     "metadata": {},
     "output_type": "execute_result"
    }
   ],
   "source": [
    "test_meta_classifier(level1_train,y_train,level1_test,y_test)"
   ]
  },
  {
   "cell_type": "code",
   "execution_count": 109,
   "metadata": {},
   "outputs": [],
   "source": [
    "def get_accuracies(names_to_clf,level1_train,y_train,y_test):\n",
    "    model_to_accuracy = {}\n",
    "    for name in names_to_clf:\n",
    "        clf = names_to_clf[name]\n",
    "        y_pred = clf.predict(X_test)\n",
    "        model_to_accuracy[name]=accuracy_score(y_pred, y_test)\n",
    "    meta_accuracy = test_meta_classifier(level1_train,y_train,level1_test,y_test)\n",
    "    model_to_accuracy[\"meta_learner\"] = meta_accuracy\n",
    "    return model_to_accuracy"
   ]
  },
  {
   "cell_type": "code",
   "execution_count": 110,
   "metadata": {
    "scrolled": true
   },
   "outputs": [
    {
     "data": {
      "text/plain": [
       "{'Catboost': 0.9864077669902913,\n",
       " 'KNN': 0.962135922330097,\n",
       " 'logistic regression': 0.9805825242718447,\n",
       " 'meta_learner': 0.9912621359223301,\n",
       " 'mlp': 0.983495145631068,\n",
       " 'random forest': 0.9893203883495145,\n",
       " 'svc': 0.9893203883495145}"
      ]
     },
     "execution_count": 110,
     "metadata": {},
     "output_type": "execute_result"
    }
   ],
   "source": [
    "model_to_accuracy = get_accuracies(names_to_clf,level1_train,y_train,y_test)\n",
    "model_to_accuracy"
   ]
  },
  {
   "cell_type": "code",
   "execution_count": 115,
   "metadata": {},
   "outputs": [],
   "source": [
    "def test_accuracies(model_to_accuracy,n,std_difference=3):\n",
    "    meta_learner_accuracy = model_to_accuracy[\"meta_learner\"]\n",
    "    meta_std = np.sqrt(meta_learner_accuracy*(1-meta_learner_accuracy)/n)\n",
    "    for model in model_to_accuracy:\n",
    "        if model!=\"meta_learner\":\n",
    "            model_acc = model_to_accuracy[model]\n",
    "            if model_acc<meta_learner_accuracy+meta_std*std_difference:\n",
    "                print(\"The meta model perfomed statiscally significantly better than the {} model\".format(model))\n",
    "            elif model_acc>meta_learner_accuracy+meta_std*std_difference:\n",
    "                print(\"The meta model perfomed statiscally significantly worse than the {} model\".format(model))\n",
    "            else:\n",
    "                print(\"There is no significant difference between the meta learner and model {}\".format(model))"
   ]
  },
  {
   "cell_type": "code",
   "execution_count": 116,
   "metadata": {},
   "outputs": [
    {
     "name": "stdout",
     "output_type": "stream",
     "text": [
      "The meta model perfomed statiscally significantly better than the svc model\n",
      "The meta model perfomed statiscally significantly better than the Catboost model\n",
      "The meta model perfomed statiscally significantly better than the KNN model\n",
      "The meta model perfomed statiscally significantly better than the logistic regression model\n",
      "The meta model perfomed statiscally significantly better than the random forest model\n",
      "The meta model perfomed statiscally significantly better than the mlp model\n"
     ]
    }
   ],
   "source": [
    "test_accuracies(model_to_accuracy,len(X_test))"
   ]
  },
  {
   "cell_type": "code",
   "execution_count": 117,
   "metadata": {},
   "outputs": [
    {
     "data": {
      "image/png": "[encoded data removed]",
      "text/plain": [
       "<Figure size 432x288 with 6 Axes>"
      ]
     },
     "metadata": {},
     "output_type": "display_data"
    }
   ],
   "source": [
    "def make_meshgrid(x, y, h=.02):\n",
    "    \"\"\"Create a mesh of points to plot in\n",
    "\n",
    "    Parameters\n",
    "    ----------\n",
    "    x: data to base x-axis meshgrid on\n",
    "    y: data to base y-axis meshgrid on\n",
    "    h: stepsize for meshgrid, optional\n",
    "\n",
    "    Returns\n",
    "    -------\n",
    "    xx, yy : ndarray\n",
    "    \"\"\"\n",
    "    x_min, x_max = x.min() - 1, x.max() + 1\n",
    "    y_min, y_max = y.min() - 1, y.max() + 1\n",
    "    xx, yy = np.meshgrid(np.arange(x_min, x_max, h),\n",
    "                         np.arange(y_min, y_max, h))\n",
    "    return xx, yy\n",
    "\n",
    "\n",
    "def plot_contours(ax, clf, xx, yy, **params):\n",
    "    \"\"\"Plot the decision boundaries for a classifier.\n",
    "\n",
    "    Parameters\n",
    "    ----------\n",
    "    ax: matplotlib axes object\n",
    "    clf: a classifier\n",
    "    xx: meshgrid ndarray\n",
    "    yy: meshgrid ndarray\n",
    "    params: dictionary of params to pass to contourf, optional\n",
    "    \"\"\"\n",
    "    Z = clf.predict(np.c_[xx.ravel(), yy.ravel()])\n",
    "    Z = Z.reshape(xx.shape)\n",
    "    out = ax.contourf(xx, yy, Z, **params)\n",
    "    return out\n",
    "\n",
    "# import some data to play with\n",
    "iris = datasets.load_iris()\n",
    "# Take the first two features. We could avoid this by using a two-dim dataset\n",
    "X_iris = iris.data[:, :2]\n",
    "encoder = LabelEncoder()\n",
    "y_iris = encoder.fit_transform(iris.target)\n",
    "fitted_classifiers = [clf.fit(X_iris, y_iris) for clf in final_classifiers]\n",
    "# Set-up 2x2 grid for plotting.\n",
    "fig, sub = plt.subplots(3, 2)\n",
    "plt.subplots_adjust(wspace=1, hspace=1)\n",
    "\n",
    "X0, X1 = X_iris[:, 0], X_iris[:, 1]\n",
    "xx, yy = make_meshgrid(X0, X1)\n",
    "\n",
    "for clf, title, ax in zip(fitted_classifiers, final_names, sub.flatten()):\n",
    "    plot_contours(ax, clf, xx, yy,\n",
    "                  cmap=plt.cm.coolwarm, alpha=0.8)\n",
    "    ax.scatter(X0, X1, c=y_iris, cmap=plt.cm.coolwarm, s=20, edgecolors='k')\n",
    "\n",
    "    ax.set_xlim(xx.min(), xx.max())\n",
    "    ax.set_ylim(yy.min(), yy.max())\n",
    "    ax.set_xlabel('Sepal length')\n",
    "    ax.set_ylabel('Sepal width')\n",
    "    ax.set_xticks(())\n",
    "    ax.set_yticks(())\n",
    "    ax.set_title(title)\n",
    "plt.show()"
   ]
  },
  {
   "cell_type": "code",
   "execution_count": 119,
   "metadata": {
    "scrolled": false
   },
   "outputs": [
    {
     "name": "stdout",
     "output_type": "stream",
     "text": [
      "Starting meta learning\n",
      "Split index 1\n",
      "Split index 2\n",
      "Split index 3\n",
      "Split index 4\n",
      "Split index 5\n",
      "Split index 6\n",
      "Split index 7\n",
      "Split index 8\n",
      "Split index 9\n",
      "Split index 10\n"
     ]
    }
   ],
   "source": [
    "meta_train = get_level_data(X_iris,y_iris,final_classifiers)\n",
    "meta_clf = RidgeClassifier(normalize=True, class_weight='balanced')\n",
    "meta_clf.fit(meta_train,y_iris)\n",
    "test_data = get_level1_test(X_iris, y_iris,np.c_[xx.ravel(), yy.ravel()],final_classifiers,final_names)[0]\n",
    "meta_z = meta_clf.predict(test_data)\n",
    "meta_z = meta_z.reshape(xx.shape)"
   ]
  },
  {
   "cell_type": "code",
   "execution_count": 120,
   "metadata": {},
   "outputs": [
    {
     "data": {
      "image/png": "[encoded data removed]",
      "text/plain": [
       "<Figure size 432x288 with 1 Axes>"
      ]
     },
     "metadata": {},
     "output_type": "display_data"
    }
   ],
   "source": [
    "ax = plt.axes()\n",
    "out = ax.contourf(xx, yy, meta_z,cmap=plt.cm.coolwarm, alpha=0.8)\n",
    "\n",
    "plt.scatter(X0, X1, c=y_iris, cmap=plt.cm.coolwarm, s=20, edgecolors='k')\n",
    "ax.set_xlim(xx.min(), xx.max())\n",
    "ax.set_ylim(yy.min(), yy.max())\n",
    "ax.set_xlabel('Sepal length')\n",
    "ax.set_ylabel('Sepal width')\n",
    "ax.set_xticks(())\n",
    "ax.set_yticks(())\n",
    "ax.set_title(\"Meta learner\")\n",
    "plt.show()"
   ]
  },
  {
   "cell_type": "code",
   "execution_count": null,
   "metadata": {},
   "outputs": [],
   "source": [
    "# from sklearn.datasets import load_digits\n",
    "# from sklearn.manifold import MDS\n",
    "# X, _ = load_digits(return_X_y=True)\n",
    "# X.shape\n",
    "# (1797, 64)\n",
    "# embedding = MDS(n_components=2)\n",
    "# X_transformed = embedding.fit_transform(X[:100])\n",
    "# X_transformed.shape\n",
    "# (100, 2)"
   ]
  },
  {
   "cell_type": "code",
   "execution_count": 121,
   "metadata": {},
   "outputs": [],
   "source": [
    "def test_meta_model(names,classifiers,x,y,n_splits =10):\n",
    "    kf = KFold(n_splits=n_splits)\n",
    "    model_to_accuracy = defaultdict(list)\n",
    "    split_index = 0\n",
    "    encoder = LabelEncoder()\n",
    "    y = encoder.fit_transform(y)\n",
    "    for train_index, test_index in kf.split(x):\n",
    "        split_index+=1\n",
    "        y_train, y_test = y[train_index], y[test_index]\n",
    "        x_train, x_test = x[train_index], x[test_index]\n",
    "        for name,classifier in zip(names,classifiers):\n",
    "            classifier.fit(x_train, y_train)\n",
    "            y_pred = classifier.predict(x_test)\n",
    "            model_to_accuracy[name].append(accuracy_score(y_pred, y_test))\n",
    "        level1_train = get_level_data(x_train,y_train,classifiers)\n",
    "        level1_test = get_level1_test(x_train,y_train,x_test,classifiers,names)[0]\n",
    "        meta_accuracy = test_meta_classifier(level1_train,y_train,level1_test,y_test)\n",
    "        print(meta_accuracy)\n",
    "        model_to_accuracy[\"meta_learner\"].append(meta_accuracy)\n",
    "    return model_to_accuracy"
   ]
  },
  {
   "cell_type": "code",
   "execution_count": null,
   "metadata": {
    "scrolled": false
   },
   "outputs": [
    {
     "name": "stdout",
     "output_type": "stream",
     "text": [
      "Starting meta learning\n",
      "Split index 1\n",
      "Split index 2\n",
      "Split index 3\n",
      "Split index 4\n",
      "Split index 5\n",
      "Split index 6\n",
      "Split index 7\n",
      "Split index 8\n",
      "Split index 9\n",
      "Split index 10\n",
      "1.0\n",
      "Starting meta learning\n",
      "Split index 1\n",
      "Split index 2\n",
      "Split index 3\n",
      "Split index 4\n",
      "Split index 5\n",
      "Split index 6\n",
      "Split index 7\n",
      "Split index 8\n",
      "Split index 9\n",
      "Split index 10\n",
      "1.0\n",
      "Starting meta learning\n",
      "Split index 1\n",
      "Split index 2\n",
      "Split index 3\n",
      "Split index 4\n",
      "Split index 5\n",
      "Split index 6\n",
      "Split index 7\n",
      "Split index 8\n",
      "Split index 9\n",
      "Split index 10\n",
      "1.0\n",
      "Starting meta learning\n",
      "Split index 1\n",
      "Split index 2\n",
      "Split index 3\n",
      "Split index 4\n",
      "Split index 5\n",
      "Split index 6\n",
      "Split index 7\n",
      "Split index 8\n",
      "Split index 9\n",
      "Split index 10\n",
      "1.0\n",
      "Starting meta learning\n",
      "Split index 1\n",
      "Split index 2\n",
      "Split index 3\n",
      "Split index 4\n",
      "Split index 5\n",
      "Split index 6\n",
      "Split index 7\n",
      "Split index 8\n",
      "Split index 9\n",
      "Split index 10\n",
      "0.8666666666666667\n",
      "Starting meta learning\n",
      "Split index 1\n",
      "Split index 2\n",
      "Split index 3\n",
      "Split index 4\n",
      "Split index 5\n",
      "Split index 6\n",
      "Split index 7\n",
      "Split index 8\n",
      "Split index 9\n",
      "Split index 10\n",
      "0.8666666666666667\n",
      "Starting meta learning\n",
      "Split index 1\n",
      "Split index 2\n",
      "Split index 3\n",
      "Split index 4\n",
      "Split index 5\n",
      "Split index 6\n",
      "Split index 7\n",
      "Split index 8\n",
      "Split index 9\n",
      "Split index 10\n",
      "1.0\n",
      "Starting meta learning\n",
      "Split index 1\n",
      "Split index 2\n",
      "Split index 3\n",
      "Split index 4\n",
      "Split index 5\n",
      "Split index 6\n",
      "Split index 7\n",
      "Split index 8\n",
      "Split index 9\n"
     ]
    }
   ],
   "source": [
    "iris = datasets.load_iris()\n",
    "iris_accuracies = test_meta_model(final_names,final_classifiers,iris.data,iris.target,n_splits=10)\n",
    "iris_accuracies"
   ]
  },
  {
   "cell_type": "code",
   "execution_count": null,
   "metadata": {},
   "outputs": [],
   "source": [
    "def test_accuracies_kfold(model_to_accuracy,p=.05):\n",
    "    meta_learner_accuracies = model_to_accuracy[\"meta_learner\"]\n",
    "    meta_learner_avg = sum(meta_learner_accuracies)/len(meta_learner_accuracies)\n",
    "    for model in model_to_accuracy:\n",
    "        if model!=\"meta_learner\":\n",
    "            model_acc = model_to_accuracy[model]\n",
    "            p_score = stats.ttest_rel(meta_learner_accuracies,model_acc)[1]\n",
    "            if p_score<.05:\n",
    "                print(\"There is a significant difference between the meta learner and model {}\".format(model))\n",
    "                model_avg = sum(model_acc)/len(model_acc)\n",
    "                if meta_learner_avg>model_avg:\n",
    "                    print(\"The meta learner is better\")\n",
    "                else:\n",
    "                    print(\"The other model is better\")\n",
    "            else:\n",
    "                print(\"There is no significant difference between the meta learner and model {}\".format(model))"
   ]
  },
  {
   "cell_type": "code",
   "execution_count": 37,
   "metadata": {},
   "outputs": [
    {
     "name": "stdout",
     "output_type": "stream",
     "text": [
      "There is no significant difference between the meta learner and model KNN\n",
      "There is no significant difference between the meta learner and model svc\n",
      "There is no significant difference between the meta learner and model random forest\n",
      "There is no significant difference between the meta learner and model Catboost\n",
      "There is no significant difference between the meta learner and model logistic regression\n"
     ]
    }
   ],
   "source": [
    "test_accuracies(iris_accuracies)"
   ]
  },
  {
   "cell_type": "code",
   "execution_count": 38,
   "metadata": {
    "scrolled": true
   },
   "outputs": [],
   "source": [
    "digits = datasets.load_digits() "
   ]
  },
  {
   "cell_type": "code",
   "execution_count": 39,
   "metadata": {},
   "outputs": [
    {
     "name": "stdout",
     "output_type": "stream",
     "text": [
      "Starting meta learning\n",
      "0.95\n",
      "Starting meta learning\n",
      "1.0\n",
      "Starting meta learning\n",
      "0.9444444444444444\n",
      "Starting meta learning\n",
      "0.9888888888888889\n",
      "Starting meta learning\n",
      "0.9722222222222222\n",
      "Starting meta learning\n",
      "0.9888888888888889\n",
      "Starting meta learning\n",
      "0.9944444444444445\n",
      "Starting meta learning\n",
      "0.994413407821229\n",
      "Starting meta learning\n",
      "0.9608938547486033\n",
      "Starting meta learning\n",
      "0.9608938547486033\n"
     ]
    },
    {
     "data": {
      "text/plain": [
       "defaultdict(list,\n",
       "            {'Catboost': [0.9055555555555556,\n",
       "              0.9833333333333333,\n",
       "              0.9222222222222223,\n",
       "              0.9722222222222222,\n",
       "              0.9555555555555556,\n",
       "              0.9833333333333333,\n",
       "              0.9777777777777777,\n",
       "              0.9497206703910615,\n",
       "              0.9217877094972067,\n",
       "              0.9329608938547486],\n",
       "             'KNN': [0.9388888888888889,\n",
       "              1.0,\n",
       "              0.9888888888888889,\n",
       "              0.9833333333333333,\n",
       "              0.9555555555555556,\n",
       "              0.9833333333333333,\n",
       "              0.9833333333333333,\n",
       "              0.9888268156424581,\n",
       "              0.9832402234636871,\n",
       "              0.9664804469273743],\n",
       "             'logistic regression': [0.9055555555555556,\n",
       "              0.95,\n",
       "              0.8944444444444445,\n",
       "              0.9166666666666666,\n",
       "              0.9444444444444444,\n",
       "              0.9722222222222222,\n",
       "              0.9777777777777777,\n",
       "              0.9553072625698324,\n",
       "              0.8603351955307262,\n",
       "              0.9385474860335196],\n",
       "             'meta_learner': [0.95,\n",
       "              1.0,\n",
       "              0.9444444444444444,\n",
       "              0.9888888888888889,\n",
       "              0.9722222222222222,\n",
       "              0.9888888888888889,\n",
       "              0.9944444444444445,\n",
       "              0.994413407821229,\n",
       "              0.9608938547486033,\n",
       "              0.9608938547486033],\n",
       "             'random forest': [0.9,\n",
       "              0.9888888888888889,\n",
       "              0.9388888888888889,\n",
       "              0.9555555555555556,\n",
       "              0.95,\n",
       "              0.9777777777777777,\n",
       "              0.9666666666666667,\n",
       "              0.9664804469273743,\n",
       "              0.9720670391061452,\n",
       "              0.9385474860335196],\n",
       "             'svc': [0.9611111111111111,\n",
       "              1.0,\n",
       "              0.9388888888888889,\n",
       "              0.9944444444444445,\n",
       "              0.9888888888888889,\n",
       "              0.9833333333333333,\n",
       "              0.9944444444444445,\n",
       "              0.994413407821229,\n",
       "              0.9553072625698324,\n",
       "              0.9664804469273743]})"
      ]
     },
     "execution_count": 39,
     "metadata": {},
     "output_type": "execute_result"
    }
   ],
   "source": [
    "digits_accuracies = test_meta_model(final_names,final_classifiers,digits.data,digits.target)\n",
    "digits_accuracies"
   ]
  },
  {
   "cell_type": "code",
   "execution_count": 44,
   "metadata": {},
   "outputs": [
    {
     "name": "stdout",
     "output_type": "stream",
     "text": [
      "There is no significant difference between the meta learner and model KNN\n",
      "There is no significant difference between the meta learner and model svc\n",
      "There is a significant difference between the meta learner and model random forest\n",
      "There is a significant difference between the meta learner and model Catboost\n",
      "There is a significant difference between the meta learner and model logistic regression\n"
     ]
    }
   ],
   "source": [
    "test_accuracies(digits_accuracies)"
   ]
  }
 ],
 "metadata": {
  "kernelspec": {
   "display_name": "Python 3",
   "language": "python",
   "name": "python3"
  },
  "language_info": {
   "codemirror_mode": {
    "name": "ipython",
    "version": 3
   },
   "file_extension": ".py",
   "mimetype": "text/x-python",
   "name": "python",
   "nbconvert_exporter": "python",
   "pygments_lexer": "ipython3",
   "version": "3.5.2"
  }
 },
 "nbformat": 4,
 "nbformat_minor": 2
}
